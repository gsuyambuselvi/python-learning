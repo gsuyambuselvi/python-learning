{
  "nbformat": 4,
  "nbformat_minor": 0,
  "metadata": {
    "colab": {
      "provenance": [],
      "authorship_tag": "ABX9TyOb5dwenkEhwD/I0YqpTcs3",
      "include_colab_link": true
    },
    "kernelspec": {
      "name": "python3",
      "display_name": "Python 3"
    },
    "language_info": {
      "name": "python"
    }
  },
  "cells": [
    {
      "cell_type": "markdown",
      "metadata": {
        "id": "view-in-github",
        "colab_type": "text"
      },
      "source": [
        "<a href=\"https://colab.research.google.com/github/gsuyambuselvi/python-learning/blob/main/basics.ipynb\" target=\"_parent\"><img src=\"https://colab.research.google.com/assets/colab-badge.svg\" alt=\"Open In Colab\"/></a>"
      ]
    },
    {
      "cell_type": "code",
      "execution_count": 1,
      "metadata": {
        "id": "Yfsj8-BZK4Nh",
        "colab": {
          "base_uri": "https://localhost:8080/"
        },
        "outputId": "d3a82392-61fa-4236-8958-f50e9abc242a"
      },
      "outputs": [
        {
          "output_type": "stream",
          "name": "stdout",
          "text": [
            "u can win!\n"
          ]
        }
      ],
      "source": [
        "print(\"u can win!\")"
      ]
    }
  ]
}